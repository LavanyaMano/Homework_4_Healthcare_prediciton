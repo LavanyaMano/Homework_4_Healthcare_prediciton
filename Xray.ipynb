{
  "nbformat": 4,
  "nbformat_minor": 0,
  "metadata": {
    "colab": {
      "name": "Xray.ipynb",
      "provenance": [],
      "collapsed_sections": []
    },
    "kernelspec": {
      "name": "python3",
      "display_name": "Python 3"
    }
  },
  "cells": [
    {
      "cell_type": "code",
      "metadata": {
        "id": "xcIJgOcAEeuG",
        "colab_type": "code",
        "colab": {}
      },
      "source": [
        "from google.colab import files\n",
        "files.upload()"
      ],
      "execution_count": 0,
      "outputs": []
    },
    {
      "cell_type": "code",
      "metadata": {
        "id": "QgowUvENEeTO",
        "colab_type": "code",
        "colab": {
          "base_uri": "https://localhost:8080/",
          "height": 34
        },
        "outputId": "89a77615-919b-479e-d79b-6505088c92c8"
      },
      "source": [
        "!ls -lha kaggle.json\n",
        "!pip install -q kaggle\n"
      ],
      "execution_count": 12,
      "outputs": [
        {
          "output_type": "stream",
          "text": [
            "-rw-r--r-- 1 root root 67 Sep 21 18:34 kaggle.json\n"
          ],
          "name": "stdout"
        }
      ]
    },
    {
      "cell_type": "code",
      "metadata": {
        "id": "W0UTj0UcG7Yq",
        "colab_type": "code",
        "colab": {}
      },
      "source": [
        "\n",
        "!mkdir -p ~/.kaggle\n",
        "!cp kaggle.json ~/.kaggle/\n",
        "\n",
        "# This permissions change avoids a warning on Kaggle tool startup.\n",
        "!chmod 600 ~/.kaggle/kaggle.json"
      ],
      "execution_count": 0,
      "outputs": []
    },
    {
      "cell_type": "code",
      "metadata": {
        "id": "y99frZIw-157",
        "colab_type": "code",
        "colab": {
          "base_uri": "https://localhost:8080/",
          "height": 68
        },
        "outputId": "a494d9e8-9fbd-44cd-bea1-f1945e6d31ff"
      },
      "source": [
        "!kaggle datasets download -d paultimothymooney/chest-xray-pneumonia"
      ],
      "execution_count": 17,
      "outputs": [
        {
          "output_type": "stream",
          "text": [
            "Downloading chest-xray-pneumonia.zip to /content\n",
            " 99% 1.14G/1.15G [00:10<00:00, 137MB/s]\n",
            "100% 1.15G/1.15G [00:10<00:00, 113MB/s]\n"
          ],
          "name": "stdout"
        }
      ]
    },
    {
      "cell_type": "code",
      "metadata": {
        "id": "sfWfQW5OHTbd",
        "colab_type": "code",
        "colab": {
          "base_uri": "https://localhost:8080/",
          "height": 51
        },
        "outputId": "3b983224-774a-46b4-c93e-f4e8596273ec"
      },
      "source": [
        "!unzip chest-xray-pneumonia.zip"
      ],
      "execution_count": 18,
      "outputs": [
        {
          "output_type": "stream",
          "text": [
            "Archive:  chest-xray-pneumonia.zip\n",
            "  inflating: chest_xray.zip          \n"
          ],
          "name": "stdout"
        }
      ]
    },
    {
      "cell_type": "code",
      "metadata": {
        "id": "1NmGPy1BHnlk",
        "colab_type": "code",
        "colab": {}
      },
      "source": [
        "!unzip chest_xray.zip"
      ],
      "execution_count": 0,
      "outputs": []
    },
    {
      "cell_type": "markdown",
      "metadata": {
        "id": "DXhfV2eZ-3BP",
        "colab_type": "text"
      },
      "source": [
        "Library imports. Resource: https://github.com/anjanatiha/Pneumonia-Detection-from-Chest-X-Ray-Images-with-Deep-Learning/blob/master/code/Detection%20of%20Pneumonia%20from%20Chest%20X-Ray%20Images%201.0.0.3.ipynb"
      ]
    },
    {
      "cell_type": "code",
      "metadata": {
        "id": "lsJPfKOCvq70",
        "colab_type": "code",
        "colab": {}
      },
      "source": [
        "\n",
        "\n",
        "import sys\n",
        "import os\n",
        "import argparse\n",
        "\n",
        "import random\n",
        "\n",
        "import time\n",
        "import datetime\n",
        "\n",
        "from collections import Counter\n",
        "\n",
        "import numpy as np\n",
        "import pandas as pd\n",
        "\n",
        "import shutil\n",
        "from tqdm import tqdm\n",
        "\n",
        "import inspect\n",
        "import gc\n",
        "\n",
        "import re\n",
        "\n",
        "from PIL import Image\n",
        "import cv2\n",
        "\n",
        "import keras\n",
        "\n",
        "from keras.utils import np_utils\n",
        "\n",
        "from keras.preprocessing.image import ImageDataGenerator\n",
        "\n",
        "from keras import models\n",
        "from keras.models import Model\n",
        "from keras.models import Sequential\n",
        "from keras.layers import Conv2D, Activation, MaxPooling2D, Dropout, GlobalAveragePooling1D, GlobalAveragePooling2D, Flatten, BatchNormalization, Dense\n",
        "\n",
        "\n",
        "from keras.applications.inception_v3 import InceptionV3\n",
        "\n",
        "\n",
        "from keras.constraints import maxnorm\n",
        "\n",
        "\n",
        "from keras import optimizers\n",
        "from keras.optimizers import Adam, SGD , RMSprop\n",
        "\n",
        "\n",
        "# from keras import backend as K\n",
        "# K.set_image_dim_ordering('th')\n",
        "\n",
        "\n",
        "from keras.callbacks import ModelCheckpoint, EarlyStopping, TensorBoard, ReduceLROnPlateau\n",
        "\n",
        "from keras.wrappers.scikit_learn import KerasClassifier\n",
        "\n",
        "\n",
        "from sklearn.metrics import precision_score, recall_score, f1_score, roc_auc_score, confusion_matrix, classification_report\n",
        "\n",
        "\n",
        "from mlxtend.plotting import plot_confusion_matrix\n",
        "\n",
        "import tensorflow as tf\n",
        "\n",
        "\n",
        "\n",
        "from IPython.display import display\n",
        "\n",
        "import seaborn as sns\n",
        "\n",
        "from matplotlib.pyplot import figure\n",
        "import matplotlib.pyplot as plt\n",
        "import matplotlib.image as mpimg"
      ],
      "execution_count": 0,
      "outputs": []
    },
    {
      "cell_type": "code",
      "metadata": {
        "id": "A3nYNDNuEFkW",
        "colab_type": "code",
        "colab": {}
      },
      "source": [
        "input_directory = \"/content/chest_xray\"\n",
        "training_dir = input_directory + r\"/train\"\n",
        "validation_dir = input_directory + r\"/val\"\n",
        "testing_dir = input_directory + r\"/test\""
      ],
      "execution_count": 0,
      "outputs": []
    },
    {
      "cell_type": "markdown",
      "metadata": {
        "id": "ZXWur1nr-7oK",
        "colab_type": "text"
      },
      "source": [
        "Image preprocessing and Augmentation.\n",
        "https://medium.com/@vijayabhaskar96/tutorial-image-classification-with-keras-flow-from-directory-and-generators-95f75ebe5720"
      ]
    },
    {
      "cell_type": "code",
      "metadata": {
        "id": "1-VNE7KRIxuv",
        "colab_type": "code",
        "colab": {}
      },
      "source": [
        "rescale = 1./255\n",
        "train_datagen = ImageDataGenerator(\n",
        "    rescale=rescale,\n",
        "    shear_range=0.2,\n",
        "    zoom_range=0.2,\n",
        "    horizontal_flip=True)\n",
        "\n",
        "valid_datagen = ImageDataGenerator(rescale=rescale)\n",
        "\n",
        "test_datagen = ImageDataGenerator(rescale=rescale)\n"
      ],
      "execution_count": 0,
      "outputs": []
    },
    {
      "cell_type": "code",
      "metadata": {
        "id": "2RUKBHJ1_ACl",
        "colab_type": "code",
        "colab": {
          "base_uri": "https://localhost:8080/",
          "height": 34
        },
        "outputId": "962874c4-61c9-49c7-da78-182ca6a4f80d"
      },
      "source": [
        "train_generator = train_datagen.flow_from_directory(\n",
        "    directory=training_dir,\n",
        "    target_size=(150, 150),\n",
        "    color_mode=\"rgb\",\n",
        "    batch_size=32,\n",
        "    class_mode=\"categorical\",\n",
        "    shuffle=True,\n",
        "    seed=42\n",
        ")"
      ],
      "execution_count": 39,
      "outputs": [
        {
          "output_type": "stream",
          "text": [
            "Found 5216 images belonging to 2 classes.\n"
          ],
          "name": "stdout"
        }
      ]
    },
    {
      "cell_type": "code",
      "metadata": {
        "id": "BSrDM3JI_XWU",
        "colab_type": "code",
        "colab": {
          "base_uri": "https://localhost:8080/",
          "height": 34
        },
        "outputId": "e785a346-2cab-4874-d060-0264b526cd07"
      },
      "source": [
        "valid_generator = valid_datagen.flow_from_directory(\n",
        "    directory=validation_dir,\n",
        "    target_size=(150, 150),\n",
        "    color_mode=\"rgb\",\n",
        "    batch_size=32,\n",
        "    class_mode=\"categorical\",\n",
        "    shuffle=True,\n",
        "    seed=42\n",
        ")"
      ],
      "execution_count": 40,
      "outputs": [
        {
          "output_type": "stream",
          "text": [
            "Found 16 images belonging to 2 classes.\n"
          ],
          "name": "stdout"
        }
      ]
    },
    {
      "cell_type": "code",
      "metadata": {
        "id": "ThskiiGi_c5j",
        "colab_type": "code",
        "colab": {
          "base_uri": "https://localhost:8080/",
          "height": 34
        },
        "outputId": "440795f5-5fd3-4953-c1b5-e60da7c79603"
      },
      "source": [
        "test_generator = test_datagen.flow_from_directory(\n",
        "    directory=testing_dir,\n",
        "    target_size=(150,150),\n",
        "    color_mode=\"rgb\",\n",
        "    batch_size=1,\n",
        "    class_mode=\"categorical\",\n",
        "    shuffle=False,\n",
        "    seed=42\n",
        ")"
      ],
      "execution_count": 94,
      "outputs": [
        {
          "output_type": "stream",
          "text": [
            "Found 624 images belonging to 2 classes.\n"
          ],
          "name": "stdout"
        }
      ]
    },
    {
      "cell_type": "markdown",
      "metadata": {
        "id": "ZsNiowqA_iXc",
        "colab_type": "text"
      },
      "source": [
        "Customizing the model(InceptionV3)"
      ]
    },
    {
      "cell_type": "code",
      "metadata": {
        "id": "c59wijmR0XtQ",
        "colab_type": "code",
        "colab": {}
      },
      "source": [
        "\n",
        "#     base_model = InceptionV3(weights=None, include_top=False)\n",
        "    base_model = InceptionV3(weights='imagenet', include_top=False, input_shape=(150, 150, 3))\n",
        "\n",
        "    x = base_model.output\n",
        "    \n",
        "#     x = Dropout(0.5)(x)\n",
        "    \n",
        "#     x = GlobalAveragePooling2D()(x)\n",
        "    \n",
        "#     x = Dense(512, activation='relu')(x)\n",
        "#     # x = Dense(1024, activation='relu')(x)\n",
        "    \n",
        "    x = BatchNormalization()(x)\n",
        "    x = Flatten()(x)\n",
        "    \n",
        "# #     predictions = Dense(2, activation='sigmoid')(x) \n",
        "    predictions = Dense(2, activation='softmax')(x) \n",
        "    \n",
        "    \n",
        "    model = Model(inputs=base_model.input, outputs=predictions)\n",
        "    \n",
        "    \n",
        "    for layer in base_model.layers:\n",
        "        layer.trainable = False\n",
        "        \n",
        "        \n",
        "#     for layer in model.layers[:249]:\n",
        "#         layer.trainable = False\n",
        "#     for layer in model.layers[249:]:\n",
        "#         layer.trainable = True\n",
        "        \n",
        "    \n",
        "#     model.summary()\n",
        "        "
      ],
      "execution_count": 0,
      "outputs": []
    },
    {
      "cell_type": "markdown",
      "metadata": {
        "id": "9XEz1BRzJ5mZ",
        "colab_type": "text"
      },
      "source": [
        "Model compiliation."
      ]
    },
    {
      "cell_type": "code",
      "metadata": {
        "id": "1r9ThQd0J8qi",
        "colab_type": "code",
        "colab": {}
      },
      "source": [
        "# steps_per_epoch=len(train_generator)\n",
        "# validation_steps=len(valid_generator)\n",
        "\n",
        "\n",
        "optimizer=optimizers.Adam()\n",
        "loss='categorical_crossentropy'\n",
        "metrics=['accuracy']\n",
        "epochs = 100\n",
        "\n",
        "\n",
        "model.compile(optimizer, loss=loss, metrics=metrics)"
      ],
      "execution_count": 0,
      "outputs": []
    },
    {
      "cell_type": "markdown",
      "metadata": {
        "id": "1yGwhxfy_pfX",
        "colab_type": "text"
      },
      "source": [
        "Model fitting and training."
      ]
    },
    {
      "cell_type": "code",
      "metadata": {
        "id": "Lutesp34_sBv",
        "colab_type": "code",
        "colab": {
          "base_uri": "https://localhost:8080/",
          "height": 394
        },
        "outputId": "fd6b67ea-2280-438b-9f8a-3f80a8e2f375"
      },
      "source": [
        "STEP_SIZE_TRAIN=train_generator.n//train_generator.batch_size\n",
        "STEP_SIZE_VALID=valid_generator.n//valid_generator.batch_size\n",
        "model.fit_generator(generator=train_generator,\n",
        "                    steps_per_epoch=STEP_SIZE_TRAIN,\n",
        "                    validation_data=valid_generator,\n",
        "                    validation_steps=STEP_SIZE_VALID,\n",
        "                    epochs=10\n",
        ")\n",
        "\n",
        "\n",
        "# history = model.fit_generator(\n",
        "#     train_generator,\n",
        "#     steps_per_epoch = steps_per_epoch,\n",
        "#     epochs=epochs,\n",
        "#     verbose=2,\n",
        "#     validation_data=valid_generator,\n",
        "#     validation_steps=len(valid_generator))"
      ],
      "execution_count": 55,
      "outputs": [
        {
          "output_type": "stream",
          "text": [
            "Epoch 1/10\n",
            "163/163 [==============================] - 337s 2s/step - loss: 0.5313 - acc: 0.9208 - val_loss: 3.8235 - val_acc: 0.7500\n",
            "Epoch 2/10\n",
            "163/163 [==============================] - 336s 2s/step - loss: 0.5311 - acc: 0.9247 - val_loss: 5.2275 - val_acc: 0.5625\n",
            "Epoch 3/10\n",
            "163/163 [==============================] - 336s 2s/step - loss: 0.5901 - acc: 0.9220 - val_loss: 6.4842 - val_acc: 0.5000\n",
            "Epoch 4/10\n",
            "163/163 [==============================] - 334s 2s/step - loss: 0.5151 - acc: 0.9296 - val_loss: 6.8405 - val_acc: 0.5625\n",
            "Epoch 5/10\n",
            "163/163 [==============================] - 336s 2s/step - loss: 0.5334 - acc: 0.9256 - val_loss: 6.7539 - val_acc: 0.5625\n",
            "Epoch 6/10\n",
            "163/163 [==============================] - 339s 2s/step - loss: 0.5499 - acc: 0.9237 - val_loss: 8.0590 - val_acc: 0.5000\n",
            "Epoch 7/10\n",
            "163/163 [==============================] - 338s 2s/step - loss: 0.5612 - acc: 0.9260 - val_loss: 5.6902 - val_acc: 0.5000\n",
            "Epoch 8/10\n",
            "163/163 [==============================] - 338s 2s/step - loss: 0.5864 - acc: 0.9245 - val_loss: 2.8816 - val_acc: 0.7500\n",
            "Epoch 9/10\n",
            "163/163 [==============================] - 336s 2s/step - loss: 0.5665 - acc: 0.9287 - val_loss: 4.0941 - val_acc: 0.5625\n",
            "Epoch 10/10\n",
            "163/163 [==============================] - 334s 2s/step - loss: 0.5741 - acc: 0.9258 - val_loss: 3.9096 - val_acc: 0.7500\n"
          ],
          "name": "stdout"
        },
        {
          "output_type": "execute_result",
          "data": {
            "text/plain": [
              "<keras.callbacks.History at 0x7f24a5087ba8>"
            ]
          },
          "metadata": {
            "tags": []
          },
          "execution_count": 55
        }
      ]
    },
    {
      "cell_type": "markdown",
      "metadata": {
        "id": "g7KSu2lr_2sN",
        "colab_type": "text"
      },
      "source": [
        "Model evaluation. (Treating validation set as test data set for evaluation)"
      ]
    },
    {
      "cell_type": "code",
      "metadata": {
        "id": "vDBoc_vU_wL0",
        "colab_type": "code",
        "colab": {
          "base_uri": "https://localhost:8080/",
          "height": 51
        },
        "outputId": "124eef44-acbb-46ab-8756-2bd84d338cc4"
      },
      "source": [
        "result = model.evaluate_generator(generator=valid_generator,\n",
        "steps=len(valid_generator))\n",
        "\n",
        "print(\"%s%.2f  \"% (\"Loss     : \", result[0]))\n",
        "print(\"%s%.2f%s\"% (\"Accuracy : \", result[1]*100, \"%\"))"
      ],
      "execution_count": 88,
      "outputs": [
        {
          "output_type": "stream",
          "text": [
            "Loss     : 3.91  \n",
            "Accuracy : 75.00%\n"
          ],
          "name": "stdout"
        }
      ]
    },
    {
      "cell_type": "code",
      "metadata": {
        "id": "kFTIWC7ns0y6",
        "colab_type": "code",
        "colab": {}
      },
      "source": [
        "# just for testing\n",
        "\n",
        "print(\"train\",train_generator.classes,\"test\",test_generator.classes)"
      ],
      "execution_count": 0,
      "outputs": []
    },
    {
      "cell_type": "markdown",
      "metadata": {
        "id": "b9-9SC3gANAn",
        "colab_type": "text"
      },
      "source": [
        "Prediction and output."
      ]
    },
    {
      "cell_type": "code",
      "metadata": {
        "id": "019wcT4IAQiY",
        "colab_type": "code",
        "colab": {
          "base_uri": "https://localhost:8080/",
          "height": 323
        },
        "outputId": "b8ce4e94-0698-496c-b32d-48ccc45ee06f"
      },
      "source": [
        "STEP_SIZE_TEST=test_generator.n//test_generator.batch_size\n",
        "test_generator.reset()\n",
        "y_pred=model.predict_generator(test_generator, steps=STEP_SIZE_TEST, verbose=1)\n",
        "y_pred = y_pred.argmax(axis=-1)\n",
        "y_true=test_generator.classes\n",
        "\n",
        "print(y_pred)"
      ],
      "execution_count": 91,
      "outputs": [
        {
          "output_type": "stream",
          "text": [
            "624/624 [==============================] - 58s 93ms/step\n",
            "[1 0 0 0 0 0 0 1 0 0 1 1 1 0 0 1 1 0 0 0 1 1 0 0 0 0 1 0 0 0 0 0 1 1 1 1 0\n",
            " 0 0 0 0 0 0 0 0 1 1 0 0 0 0 1 0 0 0 0 0 1 1 0 0 1 1 0 0 0 1 1 0 1 0 0 1 1\n",
            " 0 1 0 1 0 0 0 0 0 0 0 1 0 0 1 1 0 0 0 1 0 0 0 1 0 0 0 1 1 1 1 1 0 0 0 0 0\n",
            " 0 0 1 0 1 1 1 1 1 0 1 0 0 1 1 1 1 1 1 1 0 1 1 1 0 1 0 1 1 0 1 1 0 1 0 1 0\n",
            " 1 0 0 0 1 0 0 0 1 0 0 1 1 0 0 0 0 1 0 0 1 1 0 0 1 0 1 0 1 0 0 0 0 1 1 0 0\n",
            " 0 1 0 0 1 1 0 0 1 0 0 0 0 0 0 1 0 0 0 0 1 0 1 1 1 0 0 1 0 1 0 1 1 1 0 0 1\n",
            " 0 0 0 0 1 1 0 0 0 0 0 1 1 1 1 1 1 1 1 1 1 1 1 1 1 1 1 1 1 1 1 1 0 1 1 1 0\n",
            " 1 1 1 1 1 1 0 1 1 1 1 1 1 1 1 1 1 1 1 1 1 1 0 0 1 1 1 1 0 1 1 1 1 1 1 1 1\n",
            " 1 1 0 0 1 1 1 1 1 1 1 1 1 1 1 1 1 1 1 1 1 0 1 1 1 1 1 1 1 1 1 0 1 1 1 1 1\n",
            " 1 1 1 1 1 1 1 1 1 1 1 1 1 1 1 0 1 1 1 1 1 1 1 1 1 1 1 1 1 1 1 1 1 1 1 1 1\n",
            " 1 1 1 1 1 1 1 1 1 1 1 1 1 1 1 1 1 1 0 1 0 1 1 1 1 1 1 1 1 1 1 1 1 1 0 0 1\n",
            " 1 1 1 1 0 1 1 0 1 1 1 1 1 1 1 1 1 0 1 1 1 1 0 1 1 1 0 1 1 0 1 1 1 1 1 1 1\n",
            " 1 1 0 1 1 1 0 1 1 1 1 1 1 1 0 1 1 1 0 1 1 0 1 1 1 1 0 0 1 0 1 1 0 1 1 0 1\n",
            " 1 1 1 1 1 0 1 1 1 1 1 1 1 0 1 1 0 0 1 1 1 0 0 1 1 1 1 1 1 0 1 1 0 1 1 1 0\n",
            " 1 1 1 1 1 0 0 0 1 0 1 0 0 1 1 1 1 1 1 1 1 1 1 1 0 1 0 1 0 1 1 1 1 1 0 0 1\n",
            " 1 1 1 1 1 1 1 1 1 1 1 0 0 1 1 1 1 1 1 1 1 1 1 1 1 1 1 1 1 1 1 1 1 1 1 1 1\n",
            " 1 1 1 1 0 0 1 0 1 1 1 1 1 1 1 1 1 1 1 1 0 1 1 1 1 0 1 1 1 1 1 1]\n"
          ],
          "name": "stdout"
        }
      ]
    },
    {
      "cell_type": "code",
      "metadata": {
        "id": "OaFd7HuqmmNd",
        "colab_type": "code",
        "colab": {
          "base_uri": "https://localhost:8080/",
          "height": 68
        },
        "outputId": "6dacc89c-d61c-461e-c77e-bdb8587d884b"
      },
      "source": [
        "result1 = model.evaluate_generator(generator=test_generator,\n",
        "steps=len(test_generator), verbose=1)\n",
        "\n",
        "print(\"%s%.2f  \"% (\"Loss     : \", result1[0]))\n",
        "print(\"%s%.2f%s\"% (\"Accuracy : \", result1[1]*100, \"%\"))\n"
      ],
      "execution_count": 96,
      "outputs": [
        {
          "output_type": "stream",
          "text": [
            "624/624 [==============================] - 62s 99ms/step\n",
            "Loss     : 2.97  \n",
            "Accuracy : 75.80%\n"
          ],
          "name": "stdout"
        }
      ]
    },
    {
      "cell_type": "markdown",
      "metadata": {
        "id": "f9JgSav7Ck08",
        "colab_type": "text"
      },
      "source": [
        "Visualization."
      ]
    },
    {
      "cell_type": "code",
      "metadata": {
        "id": "nQs_mpfxCmwf",
        "colab_type": "code",
        "colab": {
          "base_uri": "https://localhost:8080/",
          "height": 136
        },
        "outputId": "94eca663-920b-4a64-ee3e-48b92dc6292e"
      },
      "source": [
        "numofbatch = len(test_generator)\n",
        "\n",
        "batch_no = random.randint(0, numofbatch-1)\n",
        "\n",
        "y_img_batch, y_true_batch = test_generator[batch_no] \n",
        "y_true_batch = y_true_batch.argmax(axis=-1)\n",
        "\n",
        "y_pred_batch = model.predict(y_img_batch)\n",
        "y_pred_batch = y_pred_batch.argmax(axis=-1)\n",
        "\n",
        "\n",
        "sizeofbatch = len(y_true_batch)\n",
        "print(\"-\"*35)\n",
        "print(\"%s%d\"%     (\"Selected Batch No       : \", batch_no))\n",
        "print(\"-\"*35)\n",
        "print(\"%s%d\"%     (\"Batch Size              : \", len(y_pred_batch)))\n",
        "print(\"-\"*35)\n",
        "print(\"%s%.2f%s\"% (\"Accuracy                : \", np.mean(y_true==y_pred)*100, \"%\"))\n",
        "print(\"-\"*35)"
      ],
      "execution_count": 169,
      "outputs": [
        {
          "output_type": "stream",
          "text": [
            "-----------------------------------\n",
            "Selected Batch No       : 237\n",
            "-----------------------------------\n",
            "Batch Size              : 1\n",
            "-----------------------------------\n",
            "Accuracy                : 75.80%\n",
            "-----------------------------------\n"
          ],
          "name": "stdout"
        }
      ]
    },
    {
      "cell_type": "code",
      "metadata": {
        "id": "fTZtSaZSCn7E",
        "colab_type": "code",
        "colab": {
          "base_uri": "https://localhost:8080/",
          "height": 34
        },
        "outputId": "c6c156c6-c1de-4624-9e54-bc7fe4674578"
      },
      "source": [
        "def get_reset_subplot_params(nrows, ncols, dpi):\n",
        "    subplot_params = {}\n",
        "    subplot_params[\"nrows\"] = nrows\n",
        "    subplot_params[\"ncols\"] = ncols\n",
        "\n",
        "    subplot_params[\"figsize_col\"] = subplot_params[\"ncols\"]*2.5\n",
        "    subplot_params[\"figsize_row\"] = subplot_params[\"nrows\"]*2.5\n",
        "    subplot_params[\"dpi\"] = dpi\n",
        "    subplot_params[\"facecolor\"] = 'w'\n",
        "    subplot_params[\"edgecolor\"] = 'k'\n",
        "    subplot_params[\"subplot_kw\"] = {'xticks': [], 'yticks': []}\n",
        "    subplot_params[\"axes.titlesize\"] = 'small'\n",
        "    subplot_params[\"hspace\"] = 0.5\n",
        "    subplot_params[\"wspace\"] = 0.3\n",
        "    \n",
        "    return subplot_params\n",
        "\n",
        "def get_reset_plot_params(figsize=(15, 5), title=\"\", xlabel =\"\", ylabel=\"\", legends=[], title_fontsize = 18, label_fontsize = 14, image_file_name=\"\", save = False, dpi=100, update_image=True):\n",
        "    plot_params = {}\n",
        "    \n",
        "    plot_params[\"figsize\"] = figsize\n",
        "    \n",
        "    plot_params[\"title\"] = title\n",
        "    \n",
        "    plot_params[\"xlabel\"] = xlabel\n",
        "    plot_params[\"ylabel\"] = ylabel\n",
        "    \n",
        "    plot_params[\"legends\"] = legends \n",
        "    \n",
        "    plot_params[\"title_fontsize\"] = title_fontsize\n",
        "    plot_params[\"axes.titlesize\"] = \"small\"\n",
        "    plot_params[\"label_fontsize\"] = label_fontsize\n",
        "    \n",
        "    plot_params[\"image_file_name\"] = image_file_name\n",
        "    plot_params[\"save\"] = save\n",
        "    plot_params[\"update_image\"] = update_image\n",
        "    \n",
        "    plot_params[\"subplot\"] = None\n",
        "    return plot_params\n",
        "  \n"
      ],
      "execution_count": 105,
      "outputs": [
        {
          "output_type": "stream",
          "text": [
            "figure_directory created\n"
          ],
          "name": "stdout"
        }
      ]
    },
    {
      "cell_type": "code",
      "metadata": {
        "id": "nVOdRhXpDS8t",
        "colab_type": "code",
        "colab": {
          "base_uri": "https://localhost:8080/",
          "height": 34
        },
        "outputId": "aa6c9a3c-d174-4687-8407-b66442159d53"
      },
      "source": [
        "!mkdir -p /content/figure_directory\n",
        "print(\"figure_directory created\")\n",
        "figure_directory = \"/content/figure_directory\"\n",
        "image_file_name_batch = figure_directory+\"/result\"\n",
        "image_file_name_sample = figure_directory+\"/sample\"\n",
        "\n",
        "batch_size_t = len(y_true_batch)\n",
        "\n",
        "class_map = {v: k for k, v in test_generator.class_indices.items()}\n",
        "\n",
        "\n",
        "dpi=100\n",
        "\n",
        "\n",
        "ncols = 8\n",
        "# ncols = batch_size_t if batch_size_t<ncols else ncols     \n",
        "# nrows = batch_size_t/ncols\n",
        "# nrows = int(batch_size_t/ncols)+1 if batch_size_t%ncols else  int(batch_size_t/ncols)\n",
        "nrows = 4\n",
        "\n",
        "count = ncols*nrows\n",
        "\n",
        "\n",
        "subplot_params = get_reset_subplot_params(nrows, ncols, dpi)\n",
        "plot_params = get_reset_plot_params()"
      ],
      "execution_count": 116,
      "outputs": [
        {
          "output_type": "stream",
          "text": [
            "figure_directory created\n"
          ],
          "name": "stdout"
        }
      ]
    },
    {
      "cell_type": "code",
      "metadata": {
        "id": "11cJ38mt2iYZ",
        "colab_type": "code",
        "colab": {}
      },
      "source": [
        "def get_fig_axs(subplot_params):\n",
        "    fig, axs = plt.subplots(\n",
        "        nrows=subplot_params[\"nrows\"], ncols=subplot_params[\"ncols\"], \n",
        "        figsize=(subplot_params[\"figsize_col\"], subplot_params[\"figsize_row\"]),\n",
        "        dpi=subplot_params[\"dpi\"], facecolor=subplot_params[\"facecolor\"], \n",
        "        edgecolor=subplot_params[\"edgecolor\"], subplot_kw=subplot_params[\"subplot_kw\"])\n",
        "        \n",
        "    return fig, axs\n",
        "  \n",
        "def show_predictions(y_img_batch, y_true, y_pred, subplot_params, plot_params, class_map, testing_dir, image_file_name, count=8, sample=True):\n",
        "    fig, axs = get_fig_axs(subplot_params)\n",
        "    plt.rcParams.update({'axes.titlesize': plot_params[\"axes.titlesize\"]})\n",
        "    plt.subplots_adjust(hspace=subplot_params[\"hspace\"], wspace=subplot_params[\"wspace\"])\n",
        "    \n",
        "    file_names = test_generator.filenames\n",
        "    m = {}\n",
        "    length = len(y_true)\n",
        "    for i in range(0, count): \n",
        "        num = i\n",
        "        if sample:\n",
        "            num = random.randint(0,length-1)\n",
        "            while num in m:\n",
        "                num = int(random.randint(0, length-1))\n",
        "\n",
        "            m[num]=1\n",
        "\n",
        "\n",
        "        plt.subplot(subplot_params[\"nrows\"], subplot_params[\"ncols\"], i+1)\n",
        "        img = cv2.imread('/content/chest_xray/test/'+ file_names[num], 1)\n",
        "        plt.imshow(img)\n",
        "        \n",
        "        \n",
        "#     DEBUGGING\n",
        "#         img = cv2.imread('/content/chest_xray/test/NORMAL/IM-0003-0001.jpeg')\n",
        "#         plt.imshow(img)\n",
        "#         img = cv2.imread('/content/chest_xray/test/NORMAL/IM-0011-0001-0002.jpeg')\n",
        "#         plt.imshow(img)\n",
        "        \n",
        "#         print('here image',img)\n",
        "        \n",
        "        plt.xticks([])\n",
        "        plt.yticks([])\n",
        "        \n",
        "        \n",
        "        original = class_map[y_true[num]]\n",
        "        predicted = class_map[y_pred[num]]\n",
        "        \n",
        "        \n",
        "        title_text = (\"%s%s%s%s%s\"%(\"True: \", original, \"\\n\", \"Pred: \", predicted))\n",
        "        \n",
        "        if original==predicted:\n",
        "            plt.title(title_text)\n",
        "        else:\n",
        "            plt.title(title_text, color='red')\n",
        "            \n",
        "\n",
        "#         if plot_params[\"update_image\"] and os.path.exists(image_file_name):\n",
        "#             os.remove(image_file_name)   \n",
        "\n",
        "        fig.savefig(image_file_name, dpi=subplot_params[\"dpi\"])\n",
        "\n",
        "    plt.tight_layout()\n",
        "    plt.show()\n",
        "    \n",
        "    "
      ],
      "execution_count": 0,
      "outputs": []
    },
    {
      "cell_type": "code",
      "metadata": {
        "id": "_3YSY-dbDokN",
        "colab_type": "code",
        "colab": {}
      },
      "source": [
        "show_predictions(y_img_batch, y_true_batch, y_pred_batch, subplot_params, plot_params, class_map, testing_dir, image_file_name_batch, count=count, sample=True)"
      ],
      "execution_count": 0,
      "outputs": []
    },
    {
      "cell_type": "code",
      "metadata": {
        "id": "H415xy7DBzo-",
        "colab_type": "code",
        "colab": {
          "base_uri": "https://localhost:8080/",
          "height": 753
        },
        "outputId": "2fb19920-80db-46ef-eea4-5a768a56acbf"
      },
      "source": [
        "ncols = 3\n",
        "nrows = 2\n",
        "\n",
        "if batch_size_t<3:\n",
        "    cols = 1\n",
        "    \n",
        "count = cols*nrows\n",
        "    \n",
        "\n",
        "subplot_params = get_reset_subplot_params(nrows, ncols, dpi)\n",
        "plot_params = get_reset_plot_params()\n",
        "\n",
        "\n",
        "show_predictions(y_img_batch, y_true_batch, y_pred_batch, subplot_params, plot_params, class_map, testing_dir, image_file_name_sample, count=count, sample=True)"
      ],
      "execution_count": 196,
      "outputs": [
        {
          "output_type": "error",
          "ename": "KeyboardInterrupt",
          "evalue": "ignored",
          "traceback": [
            "\u001b[0;31m---------------------------------------------------------------------------\u001b[0m",
            "\u001b[0;31mKeyboardInterrupt\u001b[0m                         Traceback (most recent call last)",
            "\u001b[0;32m<ipython-input-196-a4e51cfe7773>\u001b[0m in \u001b[0;36m<module>\u001b[0;34m()\u001b[0m\n\u001b[1;32m     12\u001b[0m \u001b[0;34m\u001b[0m\u001b[0m\n\u001b[1;32m     13\u001b[0m \u001b[0;34m\u001b[0m\u001b[0m\n\u001b[0;32m---> 14\u001b[0;31m \u001b[0mshow_predictions\u001b[0m\u001b[0;34m(\u001b[0m\u001b[0my_img_batch\u001b[0m\u001b[0;34m,\u001b[0m \u001b[0my_true_batch\u001b[0m\u001b[0;34m,\u001b[0m \u001b[0my_pred_batch\u001b[0m\u001b[0;34m,\u001b[0m \u001b[0msubplot_params\u001b[0m\u001b[0;34m,\u001b[0m \u001b[0mplot_params\u001b[0m\u001b[0;34m,\u001b[0m \u001b[0mclass_map\u001b[0m\u001b[0;34m,\u001b[0m \u001b[0mtesting_dir\u001b[0m\u001b[0;34m,\u001b[0m \u001b[0mimage_file_name_sample\u001b[0m\u001b[0;34m,\u001b[0m \u001b[0mcount\u001b[0m\u001b[0;34m=\u001b[0m\u001b[0mcount\u001b[0m\u001b[0;34m,\u001b[0m \u001b[0msample\u001b[0m\u001b[0;34m=\u001b[0m\u001b[0;32mTrue\u001b[0m\u001b[0;34m)\u001b[0m\u001b[0;34m\u001b[0m\u001b[0;34m\u001b[0m\u001b[0m\n\u001b[0m",
            "\u001b[0;32m<ipython-input-193-2b276fdcce6a>\u001b[0m in \u001b[0;36mshow_predictions\u001b[0;34m(y_img_batch, y_true, y_pred, subplot_params, plot_params, class_map, testing_dir, image_file_name, count, sample)\u001b[0m\n\u001b[1;32m     21\u001b[0m             \u001b[0mnum\u001b[0m \u001b[0;34m=\u001b[0m \u001b[0mrandom\u001b[0m\u001b[0;34m.\u001b[0m\u001b[0mrandint\u001b[0m\u001b[0;34m(\u001b[0m\u001b[0;36m0\u001b[0m\u001b[0;34m,\u001b[0m\u001b[0mlength\u001b[0m\u001b[0;34m-\u001b[0m\u001b[0;36m1\u001b[0m\u001b[0;34m)\u001b[0m\u001b[0;34m\u001b[0m\u001b[0;34m\u001b[0m\u001b[0m\n\u001b[1;32m     22\u001b[0m             \u001b[0;32mwhile\u001b[0m \u001b[0mnum\u001b[0m \u001b[0;32min\u001b[0m \u001b[0mm\u001b[0m\u001b[0;34m:\u001b[0m\u001b[0;34m\u001b[0m\u001b[0;34m\u001b[0m\u001b[0m\n\u001b[0;32m---> 23\u001b[0;31m                 \u001b[0mnum\u001b[0m \u001b[0;34m=\u001b[0m \u001b[0mint\u001b[0m\u001b[0;34m(\u001b[0m\u001b[0mrandom\u001b[0m\u001b[0;34m.\u001b[0m\u001b[0mrandint\u001b[0m\u001b[0;34m(\u001b[0m\u001b[0;36m0\u001b[0m\u001b[0;34m,\u001b[0m \u001b[0mlength\u001b[0m\u001b[0;34m-\u001b[0m\u001b[0;36m1\u001b[0m\u001b[0;34m)\u001b[0m\u001b[0;34m)\u001b[0m\u001b[0;34m\u001b[0m\u001b[0;34m\u001b[0m\u001b[0m\n\u001b[0m\u001b[1;32m     24\u001b[0m \u001b[0;34m\u001b[0m\u001b[0m\n\u001b[1;32m     25\u001b[0m             \u001b[0mm\u001b[0m\u001b[0;34m[\u001b[0m\u001b[0mnum\u001b[0m\u001b[0;34m]\u001b[0m\u001b[0;34m=\u001b[0m\u001b[0;36m1\u001b[0m\u001b[0;34m\u001b[0m\u001b[0;34m\u001b[0m\u001b[0m\n",
            "\u001b[0;31mKeyboardInterrupt\u001b[0m: "
          ]
        },
        {
          "output_type": "display_data",
          "data": {
            "image/png": "[encoded data removed]",
            "text/plain": [
              "<Figure size 750x500 with 6 Axes>"
            ]
          },
          "metadata": {
            "tags": []
          }
        }
      ]
    },
    {
      "cell_type": "code",
      "metadata": {
        "id": "HjIwXDVf3RUK",
        "colab_type": "code",
        "colab": {}
      },
      "source": [
        "# Debugging\n",
        "\n",
        "img = cv2.imread('/content/chest_xray/test/NORMAL/IM-0011-0001-0001.jpeg')\n",
        "# print(img)\n",
        "plt.imshow(img)"
      ],
      "execution_count": 0,
      "outputs": []
    },
    {
      "cell_type": "code",
      "metadata": {
        "id": "SjeWrulL7u56",
        "colab_type": "code",
        "colab": {}
      },
      "source": [
        "# debugging\n",
        "\n",
        "print(y_true)\n",
        "print(y_pred)"
      ],
      "execution_count": 0,
      "outputs": []
    }
  ]
}